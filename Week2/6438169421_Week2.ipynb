{
 "cells": [
  {
   "cell_type": "code",
   "execution_count": 31,
   "metadata": {},
   "outputs": [],
   "source": [
    "%matplotlib inline\n",
    "import numpy as np # n-dimensional array object & math functions\n",
    "import pandas as pd # load data into dataframe\n",
    "import matplotlib.pyplot as plt # basic plots\n",
    "import seaborn as sns # advanced statistical plots"
   ]
  },
  {
   "cell_type": "code",
   "execution_count": 32,
   "metadata": {},
   "outputs": [],
   "source": [
    "df = pd.read_csv(\"HW2_Housing Survey.csv\")"
   ]
  },
  {
   "cell_type": "code",
   "execution_count": 33,
   "metadata": {},
   "outputs": [
    {
     "data": {
      "text/html": [
       "<div>\n",
       "<style scoped>\n",
       "    .dataframe tbody tr th:only-of-type {\n",
       "        vertical-align: middle;\n",
       "    }\n",
       "\n",
       "    .dataframe tbody tr th {\n",
       "        vertical-align: top;\n",
       "    }\n",
       "\n",
       "    .dataframe thead th {\n",
       "        text-align: right;\n",
       "    }\n",
       "</style>\n",
       "<table border=\"1\" class=\"dataframe\">\n",
       "  <thead>\n",
       "    <tr style=\"text-align: right;\">\n",
       "      <th></th>\n",
       "      <th>RT</th>\n",
       "      <th>SERIALNO</th>\n",
       "      <th>DIVISION</th>\n",
       "      <th>PUMA</th>\n",
       "      <th>REGION</th>\n",
       "      <th>ST</th>\n",
       "      <th>ADJUST</th>\n",
       "      <th>WGTP</th>\n",
       "      <th>NP</th>\n",
       "      <th>TYPE</th>\n",
       "      <th>...</th>\n",
       "      <th>wgtp71</th>\n",
       "      <th>wgtp72</th>\n",
       "      <th>wgtp73</th>\n",
       "      <th>wgtp74</th>\n",
       "      <th>wgtp75</th>\n",
       "      <th>wgtp76</th>\n",
       "      <th>wgtp77</th>\n",
       "      <th>wgtp78</th>\n",
       "      <th>wgtp79</th>\n",
       "      <th>wgtp80</th>\n",
       "    </tr>\n",
       "  </thead>\n",
       "  <tbody>\n",
       "    <tr>\n",
       "      <th>0</th>\n",
       "      <td>H</td>\n",
       "      <td>186</td>\n",
       "      <td>8</td>\n",
       "      <td>700</td>\n",
       "      <td>4</td>\n",
       "      <td>16</td>\n",
       "      <td>1015675</td>\n",
       "      <td>89</td>\n",
       "      <td>4</td>\n",
       "      <td>1</td>\n",
       "      <td>...</td>\n",
       "      <td>81</td>\n",
       "      <td>27</td>\n",
       "      <td>93</td>\n",
       "      <td>151</td>\n",
       "      <td>28</td>\n",
       "      <td>79</td>\n",
       "      <td>25</td>\n",
       "      <td>101</td>\n",
       "      <td>157</td>\n",
       "      <td>129</td>\n",
       "    </tr>\n",
       "    <tr>\n",
       "      <th>1</th>\n",
       "      <td>H</td>\n",
       "      <td>306</td>\n",
       "      <td>8</td>\n",
       "      <td>700</td>\n",
       "      <td>4</td>\n",
       "      <td>16</td>\n",
       "      <td>1015675</td>\n",
       "      <td>310</td>\n",
       "      <td>1</td>\n",
       "      <td>1</td>\n",
       "      <td>...</td>\n",
       "      <td>292</td>\n",
       "      <td>401</td>\n",
       "      <td>81</td>\n",
       "      <td>494</td>\n",
       "      <td>346</td>\n",
       "      <td>496</td>\n",
       "      <td>615</td>\n",
       "      <td>286</td>\n",
       "      <td>454</td>\n",
       "      <td>260</td>\n",
       "    </tr>\n",
       "    <tr>\n",
       "      <th>2</th>\n",
       "      <td>H</td>\n",
       "      <td>395</td>\n",
       "      <td>8</td>\n",
       "      <td>100</td>\n",
       "      <td>4</td>\n",
       "      <td>16</td>\n",
       "      <td>1015675</td>\n",
       "      <td>106</td>\n",
       "      <td>2</td>\n",
       "      <td>1</td>\n",
       "      <td>...</td>\n",
       "      <td>123</td>\n",
       "      <td>119</td>\n",
       "      <td>168</td>\n",
       "      <td>107</td>\n",
       "      <td>95</td>\n",
       "      <td>101</td>\n",
       "      <td>30</td>\n",
       "      <td>124</td>\n",
       "      <td>106</td>\n",
       "      <td>31</td>\n",
       "    </tr>\n",
       "    <tr>\n",
       "      <th>3</th>\n",
       "      <td>H</td>\n",
       "      <td>506</td>\n",
       "      <td>8</td>\n",
       "      <td>700</td>\n",
       "      <td>4</td>\n",
       "      <td>16</td>\n",
       "      <td>1015675</td>\n",
       "      <td>240</td>\n",
       "      <td>4</td>\n",
       "      <td>1</td>\n",
       "      <td>...</td>\n",
       "      <td>68</td>\n",
       "      <td>359</td>\n",
       "      <td>385</td>\n",
       "      <td>71</td>\n",
       "      <td>234</td>\n",
       "      <td>421</td>\n",
       "      <td>76</td>\n",
       "      <td>77</td>\n",
       "      <td>242</td>\n",
       "      <td>231</td>\n",
       "    </tr>\n",
       "    <tr>\n",
       "      <th>4</th>\n",
       "      <td>H</td>\n",
       "      <td>835</td>\n",
       "      <td>8</td>\n",
       "      <td>800</td>\n",
       "      <td>4</td>\n",
       "      <td>16</td>\n",
       "      <td>1015675</td>\n",
       "      <td>118</td>\n",
       "      <td>4</td>\n",
       "      <td>1</td>\n",
       "      <td>...</td>\n",
       "      <td>127</td>\n",
       "      <td>36</td>\n",
       "      <td>119</td>\n",
       "      <td>121</td>\n",
       "      <td>116</td>\n",
       "      <td>209</td>\n",
       "      <td>97</td>\n",
       "      <td>176</td>\n",
       "      <td>144</td>\n",
       "      <td>38</td>\n",
       "    </tr>\n",
       "    <tr>\n",
       "      <th>...</th>\n",
       "      <td>...</td>\n",
       "      <td>...</td>\n",
       "      <td>...</td>\n",
       "      <td>...</td>\n",
       "      <td>...</td>\n",
       "      <td>...</td>\n",
       "      <td>...</td>\n",
       "      <td>...</td>\n",
       "      <td>...</td>\n",
       "      <td>...</td>\n",
       "      <td>...</td>\n",
       "      <td>...</td>\n",
       "      <td>...</td>\n",
       "      <td>...</td>\n",
       "      <td>...</td>\n",
       "      <td>...</td>\n",
       "      <td>...</td>\n",
       "      <td>...</td>\n",
       "      <td>...</td>\n",
       "      <td>...</td>\n",
       "      <td>...</td>\n",
       "    </tr>\n",
       "    <tr>\n",
       "      <th>6491</th>\n",
       "      <td>H</td>\n",
       "      <td>1357238</td>\n",
       "      <td>8</td>\n",
       "      <td>300</td>\n",
       "      <td>4</td>\n",
       "      <td>16</td>\n",
       "      <td>1015675</td>\n",
       "      <td>108</td>\n",
       "      <td>2</td>\n",
       "      <td>1</td>\n",
       "      <td>...</td>\n",
       "      <td>198</td>\n",
       "      <td>88</td>\n",
       "      <td>112</td>\n",
       "      <td>26</td>\n",
       "      <td>64</td>\n",
       "      <td>106</td>\n",
       "      <td>142</td>\n",
       "      <td>106</td>\n",
       "      <td>33</td>\n",
       "      <td>111</td>\n",
       "    </tr>\n",
       "    <tr>\n",
       "      <th>6492</th>\n",
       "      <td>H</td>\n",
       "      <td>1357340</td>\n",
       "      <td>8</td>\n",
       "      <td>400</td>\n",
       "      <td>4</td>\n",
       "      <td>16</td>\n",
       "      <td>1015675</td>\n",
       "      <td>58</td>\n",
       "      <td>2</td>\n",
       "      <td>1</td>\n",
       "      <td>...</td>\n",
       "      <td>66</td>\n",
       "      <td>101</td>\n",
       "      <td>62</td>\n",
       "      <td>52</td>\n",
       "      <td>105</td>\n",
       "      <td>75</td>\n",
       "      <td>20</td>\n",
       "      <td>127</td>\n",
       "      <td>105</td>\n",
       "      <td>68</td>\n",
       "    </tr>\n",
       "    <tr>\n",
       "      <th>6493</th>\n",
       "      <td>H</td>\n",
       "      <td>1357874</td>\n",
       "      <td>8</td>\n",
       "      <td>900</td>\n",
       "      <td>4</td>\n",
       "      <td>16</td>\n",
       "      <td>1015675</td>\n",
       "      <td>32</td>\n",
       "      <td>2</td>\n",
       "      <td>1</td>\n",
       "      <td>...</td>\n",
       "      <td>7</td>\n",
       "      <td>8</td>\n",
       "      <td>12</td>\n",
       "      <td>37</td>\n",
       "      <td>44</td>\n",
       "      <td>36</td>\n",
       "      <td>28</td>\n",
       "      <td>33</td>\n",
       "      <td>48</td>\n",
       "      <td>59</td>\n",
       "    </tr>\n",
       "    <tr>\n",
       "      <th>6494</th>\n",
       "      <td>H</td>\n",
       "      <td>1357880</td>\n",
       "      <td>8</td>\n",
       "      <td>500</td>\n",
       "      <td>4</td>\n",
       "      <td>16</td>\n",
       "      <td>1015675</td>\n",
       "      <td>123</td>\n",
       "      <td>2</td>\n",
       "      <td>1</td>\n",
       "      <td>...</td>\n",
       "      <td>201</td>\n",
       "      <td>123</td>\n",
       "      <td>38</td>\n",
       "      <td>104</td>\n",
       "      <td>186</td>\n",
       "      <td>203</td>\n",
       "      <td>132</td>\n",
       "      <td>118</td>\n",
       "      <td>201</td>\n",
       "      <td>125</td>\n",
       "    </tr>\n",
       "    <tr>\n",
       "      <th>6495</th>\n",
       "      <td>H</td>\n",
       "      <td>1358490</td>\n",
       "      <td>8</td>\n",
       "      <td>700</td>\n",
       "      <td>4</td>\n",
       "      <td>16</td>\n",
       "      <td>1015675</td>\n",
       "      <td>353</td>\n",
       "      <td>2</td>\n",
       "      <td>1</td>\n",
       "      <td>...</td>\n",
       "      <td>312</td>\n",
       "      <td>558</td>\n",
       "      <td>372</td>\n",
       "      <td>102</td>\n",
       "      <td>108</td>\n",
       "      <td>381</td>\n",
       "      <td>340</td>\n",
       "      <td>114</td>\n",
       "      <td>563</td>\n",
       "      <td>358</td>\n",
       "    </tr>\n",
       "  </tbody>\n",
       "</table>\n",
       "<p>6496 rows × 188 columns</p>\n",
       "</div>"
      ],
      "text/plain": [
       "     RT  SERIALNO  DIVISION  PUMA  REGION  ST   ADJUST  WGTP  NP  TYPE  ...  \\\n",
       "0     H       186         8   700       4  16  1015675    89   4     1  ...   \n",
       "1     H       306         8   700       4  16  1015675   310   1     1  ...   \n",
       "2     H       395         8   100       4  16  1015675   106   2     1  ...   \n",
       "3     H       506         8   700       4  16  1015675   240   4     1  ...   \n",
       "4     H       835         8   800       4  16  1015675   118   4     1  ...   \n",
       "...  ..       ...       ...   ...     ...  ..      ...   ...  ..   ...  ...   \n",
       "6491  H   1357238         8   300       4  16  1015675   108   2     1  ...   \n",
       "6492  H   1357340         8   400       4  16  1015675    58   2     1  ...   \n",
       "6493  H   1357874         8   900       4  16  1015675    32   2     1  ...   \n",
       "6494  H   1357880         8   500       4  16  1015675   123   2     1  ...   \n",
       "6495  H   1358490         8   700       4  16  1015675   353   2     1  ...   \n",
       "\n",
       "      wgtp71  wgtp72  wgtp73  wgtp74  wgtp75  wgtp76  wgtp77  wgtp78  wgtp79  \\\n",
       "0         81      27      93     151      28      79      25     101     157   \n",
       "1        292     401      81     494     346     496     615     286     454   \n",
       "2        123     119     168     107      95     101      30     124     106   \n",
       "3         68     359     385      71     234     421      76      77     242   \n",
       "4        127      36     119     121     116     209      97     176     144   \n",
       "...      ...     ...     ...     ...     ...     ...     ...     ...     ...   \n",
       "6491     198      88     112      26      64     106     142     106      33   \n",
       "6492      66     101      62      52     105      75      20     127     105   \n",
       "6493       7       8      12      37      44      36      28      33      48   \n",
       "6494     201     123      38     104     186     203     132     118     201   \n",
       "6495     312     558     372     102     108     381     340     114     563   \n",
       "\n",
       "      wgtp80  \n",
       "0        129  \n",
       "1        260  \n",
       "2         31  \n",
       "3        231  \n",
       "4         38  \n",
       "...      ...  \n",
       "6491     111  \n",
       "6492      68  \n",
       "6493      59  \n",
       "6494     125  \n",
       "6495     358  \n",
       "\n",
       "[6496 rows x 188 columns]"
      ]
     },
     "execution_count": 33,
     "metadata": {},
     "output_type": "execute_result"
    }
   ],
   "source": [
    "df"
   ]
  },
  {
   "cell_type": "code",
   "execution_count": 34,
   "metadata": {},
   "outputs": [
    {
     "data": {
      "text/plain": [
       "53"
      ]
     },
     "execution_count": 34,
     "metadata": {},
     "output_type": "execute_result"
    }
   ],
   "source": [
    "#  1 VAL\n",
    "len(df[df[\"VAL\"] == 24])"
   ]
  },
  {
   "cell_type": "code",
   "execution_count": 35,
   "metadata": {},
   "outputs": [
    {
     "data": {
      "text/plain": [
       "(2076, 4420)"
      ]
     },
     "execution_count": 35,
     "metadata": {},
     "output_type": "execute_result"
    }
   ],
   "source": [
    "na_count = df[\"VAL\"].isna().sum()\n",
    "VAL_count = len(df[\"VAL\"]) - na_count\n",
    "na_count, VAL_count"
   ]
  },
  {
   "cell_type": "code",
   "execution_count": 36,
   "metadata": {},
   "outputs": [
    {
     "data": {
      "text/plain": [
       "'1.1990950226244346%'"
      ]
     },
     "execution_count": 36,
     "metadata": {},
     "output_type": "execute_result"
    }
   ],
   "source": [
    "str(len(df[df[\"VAL\"] == 24])/VAL_count*100) + \"%\""
   ]
  },
  {
   "cell_type": "code",
   "execution_count": 37,
   "metadata": {},
   "outputs": [
    {
     "data": {
      "text/plain": [
       "2.2984913793103448"
      ]
     },
     "execution_count": 37,
     "metadata": {},
     "output_type": "execute_result"
    }
   ],
   "source": [
    "# 2 NP\n",
    "df['NP'].mean()\n",
    "# sum(df['NP'])/len(df['NP'])"
   ]
  },
  {
   "cell_type": "code",
   "execution_count": 38,
   "metadata": {},
   "outputs": [
    {
     "data": {
      "text/plain": [
       "<AxesSubplot: xlabel='NP', ylabel='VAL'>"
      ]
     },
     "execution_count": 38,
     "metadata": {},
     "output_type": "execute_result"
    },
    {
     "data": {
      "image/png": "[encoded data removed]",
      "text/plain": [
       "<Figure size 640x480 with 1 Axes>"
      ]
     },
     "metadata": {},
     "output_type": "display_data"
    }
   ],
   "source": [
    "# 3 NP vs VAL\n",
    "df.plot(x=\"NP\", y=\"VAL\", kind=\"scatter\")"
   ]
  },
  {
   "cell_type": "code",
   "execution_count": 39,
   "metadata": {},
   "outputs": [],
   "source": [
    "max_NP = df['NP'].max()\n",
    "min_NP = df['NP'].min()"
   ]
  },
  {
   "cell_type": "code",
   "execution_count": 40,
   "metadata": {},
   "outputs": [],
   "source": [
    "NP_array = [NP for NP in range(min_NP, max_NP+1)]\n",
    "VAL_average_array = [df[df['NP'] == NP]['VAL'].mean() for NP in NP_array]"
   ]
  },
  {
   "cell_type": "code",
   "execution_count": 41,
   "metadata": {},
   "outputs": [
    {
     "data": {
      "text/plain": [
       "<AxesSubplot: xlabel='NP', ylabel='AVG Val'>"
      ]
     },
     "execution_count": 41,
     "metadata": {},
     "output_type": "execute_result"
    },
    {
     "data": {
      "image/png": "[encoded data removed]",
      "text/plain": [
       "<Figure size 640x480 with 1 Axes>"
      ]
     },
     "metadata": {},
     "output_type": "display_data"
    }
   ],
   "source": [
    "df2 = pd.DataFrame({\"NP\":NP_array, \"AVG Val\":VAL_average_array})\n",
    "df2.plot(x = \"NP\", y = \"AVG Val\", kind=\"scatter\")"
   ]
  },
  {
   "cell_type": "code",
   "execution_count": 42,
   "metadata": {},
   "outputs": [],
   "source": [
    "val_array = [i+1 for i in range(24)]\n",
    "NP_average_array = [df[df['VAL'] == val]['NP'].mean() for val in val_array]"
   ]
  },
  {
   "cell_type": "code",
   "execution_count": 43,
   "metadata": {},
   "outputs": [
    {
     "data": {
      "text/plain": [
       "<AxesSubplot: xlabel='AVG NP', ylabel='Val'>"
      ]
     },
     "execution_count": 43,
     "metadata": {},
     "output_type": "execute_result"
    },
    {
     "data": {
      "image/png": "[encoded data removed]",
      "text/plain": [
       "<Figure size 640x480 with 1 Axes>"
      ]
     },
     "metadata": {},
     "output_type": "display_data"
    }
   ],
   "source": [
    "df2 = pd.DataFrame({\"AVG NP\":NP_average_array, \"Val\":val_array})\n",
    "df2.plot(x = \"AVG NP\", y = \"Val\", kind=\"scatter\")"
   ]
  },
  {
   "cell_type": "code",
   "execution_count": 44,
   "metadata": {},
   "outputs": [
    {
     "data": {
      "text/plain": [
       "<AxesSubplot: xlabel='FINCP', ylabel='Count'>"
      ]
     },
     "execution_count": 44,
     "metadata": {},
     "output_type": "execute_result"
    },
    {
     "data": {
      "image/png": "[encoded data removed]",
      "text/plain": [
       "<Figure size 640x480 with 1 Axes>"
      ]
     },
     "metadata": {},
     "output_type": "display_data"
    }
   ],
   "source": [
    "# 4 FINCP\n",
    "sns.histplot(df['FINCP'],bins=20)"
   ]
  },
  {
   "cell_type": "code",
   "execution_count": 45,
   "metadata": {},
   "outputs": [],
   "source": [
    "minFINCP = df['FINCP'].min()"
   ]
  },
  {
   "cell_type": "code",
   "execution_count": 46,
   "metadata": {},
   "outputs": [
    {
     "data": {
      "text/plain": [
       "<AxesSubplot: xlabel='Normalized FINCP', ylabel='Count'>"
      ]
     },
     "execution_count": 46,
     "metadata": {},
     "output_type": "execute_result"
    },
    {
     "data": {
      "image/png": "[encoded data removed]",
      "text/plain": [
       "<Figure size 640x480 with 1 Axes>"
      ]
     },
     "metadata": {},
     "output_type": "display_data"
    }
   ],
   "source": [
    "from sklearn.preprocessing import MaxAbsScaler\n",
    "scaler = MaxAbsScaler()\n",
    "Scaled_FINCP = scaler.fit_transform((df['FINCP']-minFINCP).values.reshape(-1, 1))\n",
    "df3 = pd.DataFrame({\"Normalized FINCP\": [row[0] for row in Scaled_FINCP]})\n",
    "sns.histplot(df3[\"Normalized FINCP\"], bins=20)"
   ]
  },
  {
   "cell_type": "code",
   "execution_count": 47,
   "metadata": {},
   "outputs": [
    {
     "data": {
      "text/plain": [
       "<AxesSubplot: xlabel='FINCP', ylabel='Count'>"
      ]
     },
     "execution_count": 47,
     "metadata": {},
     "output_type": "execute_result"
    },
    {
     "data": {
      "image/png": "[encoded data removed]",
      "text/plain": [
       "<Figure size 640x480 with 1 Axes>"
      ]
     },
     "metadata": {},
     "output_type": "display_data"
    }
   ],
   "source": [
    "# 5 FINCP\n",
    "sns.histplot(df['FINCP'], bins=5)"
   ]
  },
  {
   "cell_type": "code",
   "execution_count": 48,
   "metadata": {},
   "outputs": [
    {
     "data": {
      "text/plain": [
       "<AxesSubplot: xlabel='Normalized FINCP', ylabel='Count'>"
      ]
     },
     "execution_count": 48,
     "metadata": {},
     "output_type": "execute_result"
    },
    {
     "data": {
      "image/png": "[encoded data removed]",
      "text/plain": [
       "<Figure size 640x480 with 1 Axes>"
      ]
     },
     "metadata": {},
     "output_type": "display_data"
    }
   ],
   "source": [
    "sns.histplot(df3[\"Normalized FINCP\"], bins=5)"
   ]
  }
 ],
 "metadata": {
  "kernelspec": {
   "display_name": "Python 3",
   "language": "python",
   "name": "python3"
  },
  "language_info": {
   "codemirror_mode": {
    "name": "ipython",
    "version": 3
   },
   "file_extension": ".py",
   "mimetype": "text/x-python",
   "name": "python",
   "nbconvert_exporter": "python",
   "pygments_lexer": "ipython3",
   "version": "3.10.11"
  }
 },
 "nbformat": 4,
 "nbformat_minor": 2
}
